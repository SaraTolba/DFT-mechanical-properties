{
 "cells": [
  {
   "cell_type": "code",
   "execution_count": 3,
   "metadata": {},
   "outputs": [
    {
     "name": "stdout",
     "output_type": "stream",
     "text": [
      "[[-4.88118533e-04  3.80984335e-04 -7.50099454e-04 -1.98893872e-01\n",
      "   5.27927911e-03 -1.45155674e+00]\n",
      " [-9.72374692e-01  7.44739682e-01 -1.27255125e+00  0.00000000e+00\n",
      "   1.44300686e+00  0.00000000e+00]\n",
      " [-3.43681313e-05 -7.40255602e-05  3.98469466e-04 -9.02404554e+00\n",
      "  -3.09160761e-05  2.31137461e+00]]\n"
     ]
    }
   ],
   "source": [
    "import numpy as np\n",
    "\n",
    "# --> Parallel Cellulose\n",
    "\n",
    "#------- piezoelectric stress tensor ---------#\n",
    "#                 XX    YY\t    ZZ\t    YZ\t    ZX\t    XY          \n",
    "eij = np.array([[-0.00005,0.00006,-0.00002,-0.00231,0.00002,-0.02427],\n",
    "                [-0.09185,0.11353,-0.03699,0,0.00602,0],\n",
    "                [0,-0.00001,0.00001,-0.03616,0,0.02924]\n",
    "])\n",
    "\n",
    "#------- Elstic tensor ---------#\n",
    "#                XX    YY\tZZ  YZ  ZX  XY        \n",
    "cij = np.array([[89.494,11.499,9.806,0,-0.633,0],\n",
    "                [11.499,183.358,10.007,0,0.618,0],\n",
    "                [9.806,10.007,27.828,0,0.350,0],\n",
    "                [0.0,0.0,0.0,4.265,0,1.007],\n",
    "                [-0.633,0.618,0.350,0,3.735,0],\n",
    "                [0,0,0,1.007,0,16.582]\n",
    "])\n",
    "\n",
    "\n",
    "\n",
    "#------- elastic compliance tensor ---------#\n",
    "Sij = np.linalg.inv(cij)\n",
    "\n",
    "#------- piezoelectric strain tensor ---------#\n",
    "dij = np.dot(eij,Sij)\n",
    "\n",
    "#convert unit to  (pC/N)\n",
    "dij = dij*1000\n",
    "\n",
    "\n",
    "print(dij)\n"
   ]
  },
  {
   "cell_type": "code",
   "execution_count": 4,
   "metadata": {},
   "outputs": [
    {
     "name": "stdout",
     "output_type": "stream",
     "text": [
      "[[ 0.          0.          0.         -0.99326     0.          0.37477765]\n",
      " [-0.09019144  0.00905764  0.18031085  0.          3.85096344  0.        ]\n",
      " [ 0.          0.          0.          0.27083926  0.          1.69509242]]\n"
     ]
    }
   ],
   "source": [
    "import numpy as np\n",
    "\n",
    "# --> AAAAnti-Parallel Cellulose\n",
    "\n",
    "#------- piezoelectric stress tensor ---------#\n",
    "#                 XX    YY\t    ZZ\t    YZ\t    ZX\t    XY          \n",
    "eij_2 = np.array([[0,\t0,\t0,\t-0.00292,\t0,\t0.00715],\n",
    "                [-0.00188,\t0.00171,\t0.00156,\t0,\t0.01059,\t0],\n",
    "                [0,\t0,\t0,\t0.00094,\t0,\t0.03272]\n",
    "])\n",
    "\n",
    "#------- Elstic tensor ---------#\n",
    "cij_2 = np.array([[101.60,\t7.92,\t10.95,\t0,\t1.36,\t0],\n",
    "                [7.92,\t203.37,\t9.85,\t0.00,\t-0.31,\t0.00],\n",
    "                [10.95,\t9.85,\t30.72,\t0.00,\t-0.80,\t0.00],\n",
    "                [0.00,\t0.00,\t0.00,\t2.97,\t0.00,\t0.08],\n",
    "                [1.36,\t-0.31,\t-0.80,\t0.00,\t2.82,\t0.00],\n",
    "                [0.00,\t0.00,\t0.00,\t0.08,\t0.00,\t19.29]\n",
    "])\n",
    "\n",
    "\n",
    "\n",
    "#------- elastic compliance tensor ---------#\n",
    "Sij_2 = np.linalg.inv(cij_2)\n",
    "\n",
    "#------- piezoelectric strain tensor ---------#\n",
    "\n",
    "dij_2 = np.dot(eij_2,Sij_2)\n",
    "\n",
    "dij_2 = dij_2 * 1000\n",
    "\n",
    "print(dij_2)"
   ]
  },
  {
   "cell_type": "code",
   "execution_count": null,
   "metadata": {},
   "outputs": [],
   "source": []
  }
 ],
 "metadata": {
  "kernelspec": {
   "display_name": "base",
   "language": "python",
   "name": "python3"
  },
  "language_info": {
   "codemirror_mode": {
    "name": "ipython",
    "version": 3
   },
   "file_extension": ".py",
   "mimetype": "text/x-python",
   "name": "python",
   "nbconvert_exporter": "python",
   "pygments_lexer": "ipython3",
   "version": "3.9.15"
  },
  "orig_nbformat": 4,
  "vscode": {
   "interpreter": {
    "hash": "29a20dded5be32602bfeb8a0c366d8818f9712b3ceb25b4644ec50d6d778c447"
   }
  }
 },
 "nbformat": 4,
 "nbformat_minor": 2
}
